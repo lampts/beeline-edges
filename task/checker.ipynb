{
 "cells": [
  {
   "cell_type": "code",
   "execution_count": 1,
   "metadata": {
    "collapsed": false
   },
   "outputs": [],
   "source": [
    "from sklearn.externals import joblib\n",
    "from scipy.sparse import coo_matrix\n",
    "from sklearn.metrics import f1_score"
   ]
  },
  {
   "cell_type": "code",
   "execution_count": 2,
   "metadata": {
    "collapsed": true
   },
   "outputs": [],
   "source": [
    "dataFolder = './'"
   ]
  },
  {
   "cell_type": "code",
   "execution_count": 27,
   "metadata": {
    "collapsed": false
   },
   "outputs": [],
   "source": [
    "# ans = joblib.load(dataFolder + '/ans/answers.pkl')\n",
    "ans = joblib.load(dataFolder + '/ans/random.pkl')"
   ]
  },
  {
   "cell_type": "code",
   "execution_count": 6,
   "metadata": {
    "collapsed": false
   },
   "outputs": [],
   "source": [
    "LIMIT=5e7\n",
    "idx = []\n",
    "with open(dataFolder + 'submission.csv') as f:\n",
    "    for line in f:\n",
    "        if len(idx) > LIMIT:\n",
    "            break\n",
    "        splitted = line.split(',')\n",
    "        uid = int(splitted[0])\n",
    "        candidates = [int(x) for x in splitted[1:]]\n",
    "        idx += [(x, y) for (x, y) in zip([uid]*len(candidates), candidates)]"
   ]
  },
  {
   "cell_type": "code",
   "execution_count": 22,
   "metadata": {
    "collapsed": false
   },
   "outputs": [
    {
     "data": {
      "text/plain": [
       "1133584"
      ]
     },
     "execution_count": 22,
     "metadata": {},
     "output_type": "execute_result"
    }
   ],
   "source": [
    "len(idx)"
   ]
  },
  {
   "cell_type": "code",
   "execution_count": 23,
   "metadata": {
    "collapsed": true
   },
   "outputs": [],
   "source": [
    "prediction = coo_matrix(([1]*len(idx), ([x for (x, y) in idx], [y for (x, y) in idx])), shape=(1216082, 1216082))"
   ]
  },
  {
   "cell_type": "code",
   "execution_count": 26,
   "metadata": {
    "collapsed": false
   },
   "outputs": [
    {
     "data": {
      "text/plain": [
       "['ans/random.pkl',\n",
       " 'ans/random.pkl_01.npy',\n",
       " 'ans/random.pkl_02.npy',\n",
       " 'ans/random.pkl_03.npy']"
      ]
     },
     "execution_count": 26,
     "metadata": {},
     "output_type": "execute_result"
    }
   ],
   "source": [
    "joblib.dump(prediction, 'ans/random.pkl')"
   ]
  },
  {
   "cell_type": "code",
   "execution_count": 8,
   "metadata": {
    "collapsed": false
   },
   "outputs": [
    {
     "data": {
      "text/plain": [
       "1133584"
      ]
     },
     "execution_count": 8,
     "metadata": {},
     "output_type": "execute_result"
    }
   ],
   "source": [
    "len(idx)"
   ]
  },
  {
   "cell_type": "code",
   "execution_count": 18,
   "metadata": {
    "collapsed": true
   },
   "outputs": [],
   "source": [
    "def checkSubmission(filename, LIMIT=5e7):\n",
    "    idx = []\n",
    "    with open(dataFolder + filename) as f:\n",
    "        for line in f:\n",
    "            if len(idx) > LIMIT:\n",
    "                break\n",
    "            splitted = line.split(',')\n",
    "            uid = int(splitted[0])\n",
    "            candidates = [int(x) for x in splitted[1:]]\n",
    "            idx += [(x, y) for (x, y) in zip([uid]*len(candidates), candidates)]\n",
    "    prediction = coo_matrix(([1]*len(idx), ([x for (x, y) in idx], [y for (x, y) in idx])), shape=ans.shape)\n",
    "    assert(ans.shape == prediction.shape)\n",
    "    return f1_score(ans, prediction, average='micro')"
   ]
  },
  {
   "cell_type": "code",
   "execution_count": 28,
   "metadata": {
    "collapsed": false
   },
   "outputs": [
    {
     "name": "stdout",
     "output_type": "stream",
     "text": [
      "CPU times: user 11.4 s, sys: 549 ms, total: 11.9 s\n",
      "Wall time: 12 s\n"
     ]
    },
    {
     "data": {
      "text/plain": [
       "0.0"
      ]
     },
     "execution_count": 28,
     "metadata": {},
     "output_type": "execute_result"
    }
   ],
   "source": [
    "%%time\n",
    "checkSubmission('randomSubmission.csv', LIMIT=5e50)"
   ]
  },
  {
   "cell_type": "code",
   "execution_count": 29,
   "metadata": {
    "collapsed": false
   },
   "outputs": [
    {
     "name": "stdout",
     "output_type": "stream",
     "text": [
      "CPU times: user 6.56 s, sys: 284 ms, total: 6.85 s\n",
      "Wall time: 6.8 s\n"
     ]
    },
    {
     "data": {
      "text/plain": [
       "1.0"
      ]
     },
     "execution_count": 29,
     "metadata": {},
     "output_type": "execute_result"
    }
   ],
   "source": [
    "%%time\n",
    "checkSubmission('submission.csv', LIMIT=5e7)"
   ]
  },
  {
   "cell_type": "code",
   "execution_count": null,
   "metadata": {
    "collapsed": true
   },
   "outputs": [],
   "source": []
  }
 ],
 "metadata": {
  "kernelspec": {
   "display_name": "Python 2",
   "language": "python",
   "name": "python2"
  },
  "language_info": {
   "codemirror_mode": {
    "name": "ipython",
    "version": 2
   },
   "file_extension": ".py",
   "mimetype": "text/x-python",
   "name": "python",
   "nbconvert_exporter": "python",
   "pygments_lexer": "ipython2",
   "version": "2.7.6"
  }
 },
 "nbformat": 4,
 "nbformat_minor": 0
}
